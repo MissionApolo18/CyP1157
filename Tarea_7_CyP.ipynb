{
  "nbformat": 4,
  "nbformat_minor": 0,
  "metadata": {
    "colab": {
      "name": "Tarea 7 CyP.ipynb",
      "provenance": [],
      "authorship_tag": "ABX9TyN2bADpGsAkmQDvvzQLEL+j",
      "include_colab_link": true
    },
    "kernelspec": {
      "name": "python3",
      "display_name": "Python 3"
    },
    "language_info": {
      "name": "python"
    }
  },
  "cells": [
    {
      "cell_type": "markdown",
      "metadata": {
        "id": "view-in-github",
        "colab_type": "text"
      },
      "source": [
        "<a href=\"https://colab.research.google.com/github/MissionApolo18/CyP1157/blob/main/Tarea_7_CyP.ipynb\" target=\"_parent\"><img src=\"https://colab.research.google.com/assets/colab-badge.svg\" alt=\"Open In Colab\"/></a>"
      ]
    },
    {
      "cell_type": "code",
      "metadata": {
        "id": "A6Rl-x5uhDvr"
      },
      "source": [
        "#Problema 3.1\n",
        "\n",
        "SUMAR=0\n",
        "SUMIMP=0 \n",
        "CUEPAR=0\n",
        "I=1\n",
        "\n",
        "for i in range (1,271):\n",
        "  NUM=int(input(\"Ingrese un número entero diferente a cero:\"))\n",
        "  if NUM <0 and NUM>0:\n",
        "    if (-1**NUM)>0:\n",
        "      SUMPAR=SUMPAR+NUM \n",
        "      CUEPAR+=1\n",
        "    else:\n",
        "      SUMIMP=SUMIMP+NUM\n",
        "  \n",
        "  i+=1\n",
        "\n",
        "PROPAR=SUMPAR/CUEPAR\n",
        "print(PROPAR, SUMIMP)"
      ],
      "execution_count": null,
      "outputs": []
    },
    {
      "cell_type": "code",
      "metadata": {
        "id": "oJ6Y2dE3hZjk"
      },
      "source": [
        "#Problema 3.2\n",
        "\n",
        "BAND='T'\n",
        "SUMSER=(0,1)=2\n",
        "\n",
        "while:\n",
        "  if i<=1800:\n",
        "    SUMSER+=1\n",
        "    print(i)\n",
        "    if BAND=='T':\n",
        "      BAND='F'\n",
        "      i=1+3\n",
        "    else:\n",
        "      BAND='T'\n",
        "      i=1+2\n",
        "  else:\n",
        "    print(SUMSER)\n",
        "\n",
        "print(\"Fin del programa\")"
      ],
      "execution_count": null,
      "outputs": []
    },
    {
      "cell_type": "code",
      "metadata": {
        "id": "CDY4j6h6hbSR"
      },
      "source": [
        "#Problema 3.3\n",
        "\n",
        "SERIE=0\n",
        "N=int(input(\"Ingrese un valor entero: \"))\n",
        "BAND=T\n",
        "while BAND==T and I>=1:\n",
        "\n",
        " if BANT==T:\n",
        "   SERIE=SERIE+1/I\n",
        "   BAND==F  \n",
        "else:\n",
        "    SERIE=SERIE-1/I\n",
        "    BAND==T\n",
        "  \n",
        "I+=1\n",
        "\n",
        "print(SERIE)"
      ],
      "execution_count": null,
      "outputs": []
    },
    {
      "cell_type": "code",
      "metadata": {
        "id": "M-spokfZheVE"
      },
      "source": [
        "#Problema 3.4\n",
        "\n",
        "NOM=0\n",
        "SUE=float(input(\"Igresa el sueldo del trabajador: \"))\n",
        "\n",
        "while SUE<-1 and SUE>-1:\n",
        "  if SUE<1000:\n",
        "    NSUE=SUE*1.15\n",
        "  else: \n",
        "    NSUE=SUE*1.12\n",
        "  \n",
        "  NOM=NOM+NSUE\n",
        "  print(NSUE)\n",
        "  print(SUE)\n",
        "\n",
        "print(NOM)"
      ],
      "execution_count": null,
      "outputs": []
    }
  ]
}