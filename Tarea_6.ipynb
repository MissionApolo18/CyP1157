{
  "nbformat": 4,
  "nbformat_minor": 0,
  "metadata": {
    "colab": {
      "name": "Tarea 6.ipynb",
      "provenance": [],
      "collapsed_sections": [],
      "authorship_tag": "ABX9TyNXVKUYd/L5kHuH83/T/Kq9",
      "include_colab_link": true
    },
    "kernelspec": {
      "name": "python3",
      "display_name": "Python 3"
    },
    "language_info": {
      "name": "python"
    }
  },
  "cells": [
    {
      "cell_type": "markdown",
      "metadata": {
        "id": "view-in-github",
        "colab_type": "text"
      },
      "source": [
        "<a href=\"https://colab.research.google.com/github/MissionApolo18/CyP1157/blob/main/Tarea_6.ipynb\" target=\"_parent\"><img src=\"https://colab.research.google.com/assets/colab-badge.svg\" alt=\"Open In Colab\"/></a>"
      ]
    },
    {
      "cell_type": "code",
      "metadata": {
        "colab": {
          "base_uri": "https://localhost:8080/"
        },
        "id": "dVkBWuMEwnjp",
        "outputId": "1f82807c-88de-4e64-fda6-6fef78dbaaaa"
      },
      "source": [
        "#Problema 2.1\n",
        "\n",
        "N=int(input(\"Ingrese el número de sonidos emitidos: \"))\n",
        "\n",
        "if N >=0: \n",
        "  T=N/4+40\n",
        "  print(f\"Temperatura: \",T)\n",
        "\n",
        "print(f\"Fin del programa\")"
      ],
      "execution_count": null,
      "outputs": [
        {
          "output_type": "stream",
          "name": "stdout",
          "text": [
            "Ingrese el número de sonidos emitidos: -5\n",
            "Fin del programa\n"
          ]
        }
      ]
    },
    {
      "cell_type": "code",
      "metadata": {
        "colab": {
          "base_uri": "https://localhost:8080/"
        },
        "id": "IXGBbkF41YsA",
        "outputId": "c76f734b-be99-46c1-9e45-f14aaf4c3c68"
      },
      "source": [
        "#Problema 2.2\n",
        "\n",
        "P=int(input(\"Ingrese un número entero: \"))\n",
        "Q=int(input(\"Ingrese otro número entero: \"))\n",
        "\n",
        "EXP= P*3+Q*4-2*P**2\n",
        "if EXP<=680:\n",
        "  print(f\"Los datos registrados fueron: \",P,Q)\n",
        "\n",
        "print(f\"Fin del programa\")"
      ],
      "execution_count": null,
      "outputs": [
        {
          "output_type": "stream",
          "name": "stdout",
          "text": [
            "Ingrese un número entero: 3\n",
            "Ingrese otro número entero: 5\n",
            "Los datos registrados fueron:  3 5\n",
            "Fin del programa\n"
          ]
        }
      ]
    },
    {
      "cell_type": "code",
      "metadata": {
        "colab": {
          "base_uri": "https://localhost:8080/"
        },
        "id": "sY3E9aL73COW",
        "outputId": "11cb1525-9eeb-47d7-d1c2-b68ab12c361e"
      },
      "source": [
        "#Problema 2.3\n",
        "\n",
        "A=float(input(\"Ingrese un valor diferente a 0: \"))\n",
        "B=float(input(\"Ingrese otro valor: \"))\n",
        "C=float(input(\"Ingrese un último valor: \"))\n",
        "\n",
        "DIS=B**-4*A*C\n",
        "if DIS>=0:\n",
        "  X1=((-B)+DIS**0.5)/2*A\n",
        "  X2=((-B)-DIS**0.5)/2*A\n",
        "  print(f\"Raíces reales: \",X1,X2)\n",
        "\n",
        "print(f\"Fin del programa\")"
      ],
      "execution_count": null,
      "outputs": [
        {
          "output_type": "stream",
          "name": "stdout",
          "text": [
            "Ingrese un valor diferente a 0: 3\n",
            "Ingrese otro valor: 9\n",
            "Ingrese un último valor: 1.5\n",
            "Raíces reales:  -13.46071628993408 -13.53928371006592\n",
            "Fin del programa\n"
          ]
        }
      ]
    },
    {
      "cell_type": "code",
      "metadata": {
        "colab": {
          "base_uri": "https://localhost:8080/"
        },
        "id": "1d_OFSrG4k_q",
        "outputId": "05a950b3-73bb-485c-a12b-9425d77fdc86"
      },
      "source": [
        "#Problema 2.4\n",
        "\n",
        "MAT=int(input(\"Ingrese la matrícula del alumno: \"))\n",
        "CAL1=float(input(\"Ingrese calificación 1: \"))\n",
        "CAL2=float(input(\"Ingrese calificación 2: \"))\n",
        "CAL3=float(input(\"Ingrese calificación 3: \"))\n",
        "CAL4=float(input(\"Ingrese calificación 4: \"))\n",
        "CAL5=float(input(\"Ingrese calificación 5: \"))\n",
        "\n",
        "PRO=(CAL1+CAL2+CAL3+CAL4+CAL5)/5\n",
        "if PRO >= 6:\n",
        "  print(f\"Alumno: \",MAT,\" Promedio: \",PRO,\" Estado: Aprobado \")\n",
        "else:\n",
        "  print(f\"Alumno: \",MAT,\" Promedio: \",PRO,\" Estado: NO Aprobado \")\n",
        "\n",
        "print(f\"Fin del programa\")"
      ],
      "execution_count": null,
      "outputs": [
        {
          "output_type": "stream",
          "name": "stdout",
          "text": [
            "Ingrese la matrícula del alumno: 16650\n",
            "Ingrese calificación 1: 5\n",
            "Ingrese calificación 2: 4.80\n",
            "Ingrese calificación 3: 7\n",
            "Ingrese calificación 4: 6.30\n",
            "Ingrese calificación 5: 5.90\n",
            "Alumno:  16650  Promedio:  5.8  Estado: NO Aprobado \n",
            "Fin del programa\n"
          ]
        }
      ]
    },
    {
      "cell_type": "code",
      "metadata": {
        "colab": {
          "base_uri": "https://localhost:8080/"
        },
        "id": "EP7OJ66I61pv",
        "outputId": "9f09d312-c7eb-4995-9fe8-d3e405a380aa"
      },
      "source": [
        "#Problema 2.5\n",
        "\n",
        "NUM=int(input(\"Ingrese un número entero: \"))\n",
        "\n",
        "print(\"El número es: \")\n",
        "if NUM>0:\n",
        "  print(f\"POSITIVO\")\n",
        "elif NUM==0:\n",
        "  print(\"NULO\")\n",
        "else: \n",
        "  print(\"NEGATIVO\")\n",
        "\n",
        "print(\"Fin del programa\")"
      ],
      "execution_count": null,
      "outputs": [
        {
          "output_type": "stream",
          "name": "stdout",
          "text": [
            "Ingrese un número entero: -0\n",
            "El número es: \n",
            "NULO\n",
            "Fin del programa\n"
          ]
        }
      ]
    },
    {
      "cell_type": "code",
      "metadata": {
        "colab": {
          "base_uri": "https://localhost:8080/"
        },
        "id": "GVSlrEG58ICu",
        "outputId": "880e61ee-4806-438c-801a-b69a86c870dc"
      },
      "source": [
        "#Problema 2.6\n",
        "\n",
        "A=int(input(\"Ingrese un número entero: \"))\n",
        "\n",
        "print(\"El número es: \")\n",
        "if A==0:\n",
        "  print(\"NULO\")\n",
        "elif -1**A>0:\n",
        "    print(\"PAR\")\n",
        "else:\n",
        "    print(\"IMPAR\")\n",
        "\n",
        "print(\"Fin del programa\")"
      ],
      "execution_count": null,
      "outputs": [
        {
          "output_type": "stream",
          "name": "stdout",
          "text": [
            "Ingrese un número entero: 7\n",
            "El número es: \n",
            "IMPAR\n",
            "Fin del programa\n"
          ]
        }
      ]
    },
    {
      "cell_type": "code",
      "metadata": {
        "colab": {
          "base_uri": "https://localhost:8080/"
        },
        "id": "Akes2uH2-EJr",
        "outputId": "56de8eaa-2f6d-476b-bb29-f485afa1aa6b"
      },
      "source": [
        "#Problema 2.7\n",
        "\n",
        "A=int(input(\"Ingrese un valor entero: \"))\n",
        "B=int(input(\"Ingrese otro valor: \"))\n",
        "C=int(input(\"Ingrese un último valor: \"))\n",
        "\n",
        "if A<B:\n",
        "  if B<C:\n",
        "    print(f\"Los números están en orden creciente\")\n",
        "  else: \n",
        "    print(f\"Los números no están en orden creciente\")\n",
        "else:\n",
        "  print(f\"Los números no están en orden creciente\")\n",
        "\n",
        "print(f\"Fin del programa\")"
      ],
      "execution_count": null,
      "outputs": [
        {
          "output_type": "stream",
          "name": "stdout",
          "text": [
            "Ingrese un valor entero: 3\n",
            "Ingrese otro valor: 4\n",
            "Ingrese un último valor: 5\n",
            "Los números están en orden creciente\n",
            "Fin del programa\n"
          ]
        }
      ]
    },
    {
      "cell_type": "code",
      "metadata": {
        "colab": {
          "base_uri": "https://localhost:8080/"
        },
        "id": "aj9mkY2G_ie6",
        "outputId": "f0d0dbf4-2faa-47d1-b31e-8a425f044530"
      },
      "source": [
        "#Problema 2.8\n",
        "\n",
        "COMPRA=float(input(\"Ingrese el monto de la compra: \"))\n",
        "\n",
        "if COMPRA<500:\n",
        "  PAGAR=COMPRA\n",
        "elif COMPRA<1000:\n",
        "  PAGAR=COMPRA-(COMPRA*0.05)\n",
        "elif COMPRA<7000:\n",
        "  PAGAR=COMPRA-(COMPRA*0.11)\n",
        "elif COMPRA<=15000:\n",
        "  PAGAR=COMPRA-(COMPRA*0.18)\n",
        "else:\n",
        "  PAGAR=COMPRA-(COMPRA*0.25)\n",
        "\n",
        "print(f\"Total a pagar: \",PAGAR)"
      ],
      "execution_count": null,
      "outputs": [
        {
          "output_type": "stream",
          "name": "stdout",
          "text": [
            "Ingrese el monto de la compra: 3500.00\n",
            "Total a pagar:  3115.0\n"
          ]
        }
      ]
    },
    {
      "cell_type": "code",
      "metadata": {
        "id": "IPhAKxPTCW1N",
        "colab": {
          "base_uri": "https://localhost:8080/"
        },
        "outputId": "197ed2e2-ec94-4032-bf05-d736f16495ae"
      },
      "source": [
        "#Problema 2.9\n",
        "\n",
        "PREBAS=float(input(\"Ingrese el precio del producto: \"))\n",
        "\n",
        "if PREBAS>500:\n",
        "  IMP=20*0.30+(PREBAS-40)*0.50\n",
        "elif PREBAS>40:\n",
        "  IMP=20*0.30+(PREBAS-40)*0.40\n",
        "elif PREBAS>20:\n",
        "  IMP=(PREBAS-20)*0.30\n",
        "else: \n",
        "  IMP=0\n",
        "\n",
        "PRETOT=PREBAS+IMP\n",
        "print(\"El precio básico es: \",PREBAS,\" y el precio final es: \",PRETOT)"
      ],
      "execution_count": null,
      "outputs": [
        {
          "output_type": "stream",
          "name": "stdout",
          "text": [
            "Ingrese el precio del producto: 128.40\n",
            "El precio básico es:  128.4  y el precio final es:  169.76000000000002\n"
          ]
        }
      ]
    },
    {
      "cell_type": "code",
      "metadata": {
        "colab": {
          "base_uri": "https://localhost:8080/"
        },
        "id": "X-D4rpRZEcsI",
        "outputId": "4fa8ce3f-76bd-4dea-866f-9ffb6164013d"
      },
      "source": [
        "#Problema 2.10\n",
        "\n",
        "A=int(input(\"Ingrese un valor entero: \"))\n",
        "B=int(input(\"Ingrese otro valor: \"))\n",
        "C=int(input(\"Ingrese un último valor: \"))\n",
        "\n",
        "if A>B:\n",
        "  if A>C:\n",
        "    print(f\"A es el mayor\")\n",
        "  elif A==C:\n",
        "    print(f\"A y C son iguales\")\n",
        "  else: \n",
        "    print(f\"C es el menor\")\n",
        "else:\n",
        "  if A==B:\n",
        "    if A>C:\n",
        "      print(f\"A Y B son mayores\")\n",
        "    elif A==C:\n",
        "      print(f\"A, B y C son iguales\")\n",
        "    else:\n",
        "      print(f\"C es el mayor\")\n",
        "  else:\n",
        "    if B>C:\n",
        "      print(f\"B es el mayor\")\n",
        "    elif B==C:\n",
        "      print(f\"B y C son mayores\")\n",
        "    else:\n",
        "      print(f\"C es el mayor\")\n",
        "\n",
        "print(f\"Fin del programa\")"
      ],
      "execution_count": null,
      "outputs": [
        {
          "output_type": "stream",
          "name": "stdout",
          "text": [
            "Ingrese un valor entero: 17\n",
            "Ingrese otro valor: 17\n",
            "Ingrese un último valor: 17\n",
            "A, B y C son iguales\n",
            "Fin del programa\n"
          ]
        }
      ]
    },
    {
      "cell_type": "code",
      "metadata": {
        "colab": {
          "base_uri": "https://localhost:8080/"
        },
        "id": "9P8hgN5aHAyw",
        "outputId": "e7944766-8632-46be-ed95-b8aa434d228d"
      },
      "source": [
        "#Problema 2.11\n",
        "\n",
        "CLAVE=int(input(\"Ingrese la clave geográfica: \"))\n",
        "NUMIN=float(input(\"Ingrese la duración de la llamada (en minutos): \"))\n",
        "\n",
        "if CLAVE==12:\n",
        "  COST=NUMIN*2\n",
        "elif CLAVE==15:\n",
        "  COST=NUMIN*2.2\n",
        "elif CLAVE==18:\n",
        "  COST=NUMIN*4.5\n",
        "elif CLAVE==19:\n",
        "  COST=NUMIN*3.5\n",
        "elif CLAVE==23 and 25:\n",
        "  COST=NUMIN*6\n",
        "elif CLAVE==29:\n",
        "  COST=NUMIN*5\n",
        "\n",
        "print(f\"Costo total de la llamada: \", COST)\n",
        "print(f\"Fin del programa\")"
      ],
      "execution_count": null,
      "outputs": [
        {
          "output_type": "stream",
          "name": "stdout",
          "text": [
            "Ingrese la clave geográfica: 29\n",
            "Ingrese la duración de la llamada (en minutos): 8\n",
            "Costo total de la llamada:  40.0\n",
            "Fin del programa\n"
          ]
        }
      ]
    },
    {
      "cell_type": "code",
      "metadata": {
        "colab": {
          "base_uri": "https://localhost:8080/"
        },
        "id": "CI6r9jwDJqT5",
        "outputId": "7aed0aa5-eff4-415b-8765-65dc29a8bc21"
      },
      "source": [
        "#Problema 2.12\n",
        "\n",
        "SUE=float(input(\"Ingrese el sueldo básico del trabajador: \"))\n",
        "CATE=int(input(\"Ingrese la categoría del trabajador: \"))\n",
        "HE=int(input(\"Ingrese las horas extras trabajadas: \"))\n",
        "\n",
        "if CATE==1:\n",
        "  PHE=30\n",
        "elif CATE==2:\n",
        "  PHE=38\n",
        "elif CATE==3:\n",
        "  PHE=50\n",
        "elif CATE==4:\n",
        "  PHE=70\n",
        "else:\n",
        "  PHE=0\n",
        "\n",
        "if HE>30:\n",
        "  NSUE=SUE+30*PHE\n",
        "else:\n",
        "  NSUE=SUE+HE*PHE\n",
        "\n",
        "print(f\"Sueldo final: \",NSUE)\n",
        "print(f\"Fin del programa\")"
      ],
      "execution_count": null,
      "outputs": [
        {
          "output_type": "stream",
          "name": "stdout",
          "text": [
            "Ingrese el sueldo básico del trabajador: 13200\n",
            "Ingrese la categoría del trabajador: 8\n",
            "Ingrese las horas extras trabajadas: 22\n",
            "Sueldo final:  13200.0\n",
            "Fin del programa\n"
          ]
        }
      ]
    },
    {
      "cell_type": "code",
      "metadata": {
        "id": "NuM83RBOMcei"
      },
      "source": [
        "#Problema 2.13\n",
        "\n",
        "MAT=int(input(\"Ingrese la matricula del alumno: \"))\n",
        "CARR=str(input(\"Ingrese el nombre de la Carrera\"))\n",
        "SEM=int(input(\"Ingrese el número de semestre último aprobado: \"))\n",
        "PROM=float(input(\"Ingrese el promedio del alumno: \"))\n",
        "\n",
        "if CARR==economia and CARR==ECONOMIA:\n",
        "  if SEM>6 and PROM>8.8:\n",
        "    print(MAT,CARR,\"Aceptado\")\n",
        "elif CARR==Computacion and CARR==COMPUTACION and CARR==computacion:\n",
        "  if SEM>6 and PROM>8.5:\n",
        "    print(MAT,CARR,\"Aceptado\")\n",
        "elif CARR==Contabilidad and CARR=contabilidad and CARR==CONTABILIDAD:\n",
        "  if SEM>5 and PROM>8.5:\n",
        "    print(MAT,CARR,\"Aceptado\")\n",
        "elif CARR==ADMINISTRACION and CARR=administracion and CARR=Administracion:\n",
        "  if SEM>5 and PROM>8.5:\n",
        "    print(MAT,CARR,\"Aceptado\")\n",
        "\n",
        "print(f\"Fin del programa\")"
      ],
      "execution_count": null,
      "outputs": []
    }
  ]
}