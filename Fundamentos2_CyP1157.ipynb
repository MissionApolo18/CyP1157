{
  "nbformat": 4,
  "nbformat_minor": 0,
  "metadata": {
    "colab": {
      "name": "Fundamentos2_CyP1157.ipynb",
      "provenance": [],
      "collapsed_sections": [
        "Ov8gO-4jHDCF",
        "Kdy2p-87QpHl",
        "jlA7Nc30RKZj"
      ],
      "authorship_tag": "ABX9TyNRYniRveVafJ7ecbytCrIv",
      "include_colab_link": true
    },
    "kernelspec": {
      "name": "python3",
      "display_name": "Python 3"
    },
    "language_info": {
      "name": "python"
    }
  },
  "cells": [
    {
      "cell_type": "markdown",
      "metadata": {
        "id": "view-in-github",
        "colab_type": "text"
      },
      "source": [
        "<a href=\"https://colab.research.google.com/github/MissionApolo18/CyP1157/blob/main/Fundamentos2_CyP1157.ipynb\" target=\"_parent\"><img src=\"https://colab.research.google.com/assets/colab-badge.svg\" alt=\"Open In Colab\"/></a>"
      ]
    },
    {
      "cell_type": "markdown",
      "metadata": {
        "id": "K5H-fJevFcit"
      },
      "source": [
        "#Tipos de datos en Python\n",
        "\n",
        "1. Listas\n",
        "2. Tuplas\n",
        "3. Diccionarios\n",
        "4. Conjuntos (opcional)"
      ]
    },
    {
      "cell_type": "markdown",
      "metadata": {
        "id": "Ov8gO-4jHDCF"
      },
      "source": [
        "#Listas\n",
        "\n",
        "- se declara de dos formas# - usando [] - usando list ()\n",
        "-puede contener tipos de datos diversos (en otros leng. de prog. esto no es posible de forma directa).\n",
        "- Los elementos internos se seleccionan con []\n",
        "- Soporta slicing\n",
        "- SON MUTABLES\n",
        "- GENERADORES [var for]"
      ]
    },
    {
      "cell_type": "code",
      "metadata": {
        "id": "LjxWPryaFXBA"
      },
      "source": [
        " numeros =[10,5,2,3,1]\n",
        " print (numeros)\n",
        "\n",
        " numeros2=list()\n",
        " numeros2.append (10)\n",
        " numeros2.append (5)\n",
        " numeros2.append (2)\n",
        " numeros2.append (3)\n",
        " numeros2.append (1)\n",
        " print (numeros2)\n",
        " numeros[2]=20\n",
        " print(numeros)\n",
        " numeros [-1]=33\n",
        " numeros.append(88)"
      ],
      "execution_count": null,
      "outputs": []
    },
    {
      "cell_type": "code",
      "metadata": {
        "id": "UV0g2aC_Ielj"
      },
      "source": [
        "#Tipos diversos\n",
        "\n",
        "cosas = [12,2,True,\"José\",1.57,[\"pera\", \"kiwi\", \"uva\"]]\n",
        "print(cosas)\n",
        "print (cosas[1])\n",
        "print (cosas[4])\n",
        "print (cosas[5])\n",
        "print (cosas[5][1])\n",
        "print (cosas[3][1:3:])\n",
        "cosas[3]=cosas[3].upper()\n",
        "print (cosas)\n",
        "\n"
      ],
      "execution_count": null,
      "outputs": []
    },
    {
      "cell_type": "code",
      "metadata": {
        "id": "_EfsQUhiL6qX"
      },
      "source": [
        "numeros = [1,2,3,4,5,6,7,8,9,10,11]\n",
        "print(numeros)\n",
        "#slicing\n",
        "#Ej 1.- 4-8?\n",
        "print (numeros [3:8])\n",
        "#2.- [9,10]\n",
        "print (numeros [8:10])\n",
        "print (numeros [-3:-1:])\n",
        "#3.- imprimir la lista en orden inverso\n",
        "print(numeros [::-1])\n"
      ],
      "execution_count": null,
      "outputs": []
    },
    {
      "cell_type": "code",
      "metadata": {
        "id": "t1tPX3F1P0FV"
      },
      "source": [
        "#Crear una lista con un generador\n",
        "numeros = [ x*3 for x in range (101)]\n",
        "print (numeros)\n"
      ],
      "execution_count": null,
      "outputs": []
    },
    {
      "cell_type": "markdown",
      "metadata": {
        "id": "Kdy2p-87QpHl"
      },
      "source": [
        "#funion range\n",
        "tiene los mismos componentes que slicin\n",
        "ini, stop, incremento\n",
        "range (1, 101, 1)"
      ]
    },
    {
      "cell_type": "code",
      "metadata": {
        "colab": {
          "base_uri": "https://localhost:8080/"
        },
        "id": "FVWC1QVEQoJF",
        "outputId": "799bc5c2-63a7-4073-80fb-3b0df84b2765"
      },
      "source": [
        "numeros = [ x for x in range (50,101)]\n",
        "print (numeros)"
      ],
      "execution_count": null,
      "outputs": [
        {
          "output_type": "stream",
          "name": "stdout",
          "text": [
            "[50, 51, 52, 53, 54, 55, 56, 57, 58, 59, 60, 61, 62, 63, 64, 65, 66, 67, 68, 69, 70, 71, 72, 73, 74, 75, 76, 77, 78, 79, 80, 81, 82, 83, 84, 85, 86, 87, 88, 89, 90, 91, 92, 93, 94, 95, 96, 97, 98, 99, 100]\n"
          ]
        }
      ]
    },
    {
      "cell_type": "markdown",
      "metadata": {
        "id": "jlA7Nc30RKZj"
      },
      "source": [
        "#Métodos disponibles de las listas"
      ]
    },
    {
      "cell_type": "code",
      "metadata": {
        "colab": {
          "base_uri": "https://localhost:8080/"
        },
        "id": "0NydVzaTRPvE",
        "outputId": "1121211a-fcb2-4470-da80-da28ce73184f"
      },
      "source": [
        "dir (list)"
      ],
      "execution_count": null,
      "outputs": [
        {
          "output_type": "execute_result",
          "data": {
            "text/plain": [
              "['__add__',\n",
              " '__class__',\n",
              " '__contains__',\n",
              " '__delattr__',\n",
              " '__delitem__',\n",
              " '__dir__',\n",
              " '__doc__',\n",
              " '__eq__',\n",
              " '__format__',\n",
              " '__ge__',\n",
              " '__getattribute__',\n",
              " '__getitem__',\n",
              " '__gt__',\n",
              " '__hash__',\n",
              " '__iadd__',\n",
              " '__imul__',\n",
              " '__init__',\n",
              " '__init_subclass__',\n",
              " '__iter__',\n",
              " '__le__',\n",
              " '__len__',\n",
              " '__lt__',\n",
              " '__mul__',\n",
              " '__ne__',\n",
              " '__new__',\n",
              " '__reduce__',\n",
              " '__reduce_ex__',\n",
              " '__repr__',\n",
              " '__reversed__',\n",
              " '__rmul__',\n",
              " '__setattr__',\n",
              " '__setitem__',\n",
              " '__sizeof__',\n",
              " '__str__',\n",
              " '__subclasshook__',\n",
              " 'append',\n",
              " 'clear',\n",
              " 'copy',\n",
              " 'count',\n",
              " 'extend',\n",
              " 'index',\n",
              " 'insert',\n",
              " 'pop',\n",
              " 'remove',\n",
              " 'reverse',\n",
              " 'sort']"
            ]
          },
          "metadata": {},
          "execution_count": 2
        }
      ]
    },
    {
      "cell_type": "code",
      "metadata": {
        "colab": {
          "base_uri": "https://localhost:8080/"
        },
        "id": "B7ELC8JtS3H8",
        "outputId": "894c5667-e2e7-4169-91bf-d37a01f45d63"
      },
      "source": [
        "numeros= [4,1,15,8,22,34,50]\n",
        "print (numeros)\n",
        "numeros.append (99)\n",
        "print (numeros)\n",
        "#numeros.clear ()\n",
        "numeros= []\n",
        "print (numeros)\n",
        "\n",
        "frutas = [\"uvas\", \"kiwi\", \"manzana\"]\n",
        "copia = frutas\n",
        "print (frutas)\n",
        "print (copia)\n",
        "frutas.append (\"Naranja\")\n",
        "print (frutas)\n",
        "print (copia)\n",
        "\n",
        "colores = [\"rojo\", \"azul\", \"blanco\"]\n",
        "copia2 = colores.copy()\n",
        "print (colores)\n",
        "print (copia2)\n",
        "colores.append (\"Verde\")\n",
        "print (colores)\n",
        "print (copia2)\n",
        "\n",
        "print (\"Numero de veces que aparece el 15= \", numeros.count(15))\n",
        "\n",
        "#Extend\n",
        "\n",
        "nombres = [\"jose\", \"pedro\", \"karina\"]\n",
        "otrosnombres = [\"josue\", \"diana\", \"dalia\"]\n",
        "\n",
        "print (nombres)\n",
        "print (otrosnombres)\n",
        "nombres = nombres + otrosnombres\n",
        "print (nombres)\n",
        "print (otrosnombres)\n",
        "\n",
        "#lo mismo pero con elmétodo extend\n",
        "otrosnombres.extend([\"jesus\", \"maria\", \"jose\"])\n",
        "print(otrosnombres)\n",
        "print (\"jesus está en la posición: \", otrosnombres.index (\"jesus\"))\n",
        "otrosnombres.insert (4,\"espitiru santo\")\n",
        "print (otrosnombres)"
      ],
      "execution_count": null,
      "outputs": [
        {
          "output_type": "stream",
          "name": "stdout",
          "text": [
            "[4, 1, 15, 8, 22, 34, 50]\n",
            "[4, 1, 15, 8, 22, 34, 50, 99]\n",
            "[]\n",
            "['uvas', 'kiwi', 'manzana']\n",
            "['uvas', 'kiwi', 'manzana']\n",
            "['uvas', 'kiwi', 'manzana', 'Naranja']\n",
            "['uvas', 'kiwi', 'manzana', 'Naranja']\n",
            "['rojo', 'azul', 'blanco']\n",
            "['rojo', 'azul', 'blanco']\n",
            "['rojo', 'azul', 'blanco', 'Verde']\n",
            "['rojo', 'azul', 'blanco']\n",
            "Numero de veces que aparece el 15=  0\n",
            "['jose', 'pedro', 'karina']\n",
            "['josue', 'diana', 'dalia']\n",
            "['jose', 'pedro', 'karina', 'josue', 'diana', 'dalia']\n",
            "['josue', 'diana', 'dalia']\n",
            "['josue', 'diana', 'dalia', 'jesus', 'maria', 'jose']\n",
            "jesus está en la posición:  3\n",
            "['josue', 'diana', 'dalia', 'jesus', 'espitiru santo', 'maria', 'jose']\n"
          ]
        }
      ]
    },
    {
      "cell_type": "markdown",
      "metadata": {
        "id": "miaQQ4Dmv3K8"
      },
      "source": [
        "#Tuplas  - 09/11/2021\n",
        "### Características de las Tuplas\n",
        "\n",
        "- Datos agrupados\n",
        "- Se declara usando#\n",
        " - ( )\n",
        " - tuple ()\n",
        "- Pueden tener de 0 a n elementos\n",
        "- NO SON MUTABLES (No se puede: eliminar y/o cambiar)\n",
        "- Son buenas para almacenar información de consulta\n",
        "- Pueden almacenar información de diferentes tipos de dato\n",
        "- Pueden estar anidadas\n",
        "-Tienen métodos útiles"
      ]
    },
    {
      "cell_type": "code",
      "metadata": {
        "colab": {
          "base_uri": "https://localhost:8080/"
        },
        "id": "384JTBHIxUn8",
        "outputId": "d13de8fb-5a40-4d5e-b0e4-9db4300b60c1"
      },
      "source": [
        "info = (\"juan23\", \"dios1234\", \"123.232.1.12\")\n",
        "print (info)\n",
        "print (info [1])\n",
        "#info [1]=\"patito23\"\n",
        "\n",
        "numeros=(0,1,2,3,4,5,6,7,8,9,10,11,12,13,14,15)\n",
        "print (numeros)\n",
        "print (numeros[5:11])\n",
        "\n",
        "cosas=(info, numeros)\n",
        "print (cosas)\n",
        "print (cosas [1][5:11:1])\n",
        "print (cosas[0][2][4:7]) #en positivo\n",
        "print(cosas [0][2][-8:-5]) #en negativo"
      ],
      "execution_count": null,
      "outputs": [
        {
          "output_type": "stream",
          "name": "stdout",
          "text": [
            "('juan23', 'dios1234', '123.232.1.12')\n",
            "dios1234\n",
            "(0, 1, 2, 3, 4, 5, 6, 7, 8, 9, 10, 11, 12, 13, 14, 15)\n",
            "(5, 6, 7, 8, 9, 10)\n",
            "(('juan23', 'dios1234', '123.232.1.12'), (0, 1, 2, 3, 4, 5, 6, 7, 8, 9, 10, 11, 12, 13, 14, 15))\n",
            "(5, 6, 7, 8, 9, 10)\n",
            "232\n",
            "232\n"
          ]
        }
      ]
    },
    {
      "cell_type": "markdown",
      "metadata": {
        "id": "r1u9PrJy0qf8"
      },
      "source": [
        "#Métodos de las tuplas\n",
        "son los mismos de las listas pero los que no involucren mutabilidad."
      ]
    },
    {
      "cell_type": "code",
      "metadata": {
        "colab": {
          "base_uri": "https://localhost:8080/"
        },
        "id": "vc1gqXVf00yD",
        "outputId": "55398de1-4100-43ea-ba67-b1c13e1b3ae6"
      },
      "source": [
        "dir (tuple)"
      ],
      "execution_count": null,
      "outputs": [
        {
          "output_type": "execute_result",
          "data": {
            "text/plain": [
              "['__add__',\n",
              " '__class__',\n",
              " '__contains__',\n",
              " '__delattr__',\n",
              " '__dir__',\n",
              " '__doc__',\n",
              " '__eq__',\n",
              " '__format__',\n",
              " '__ge__',\n",
              " '__getattribute__',\n",
              " '__getitem__',\n",
              " '__getnewargs__',\n",
              " '__gt__',\n",
              " '__hash__',\n",
              " '__init__',\n",
              " '__init_subclass__',\n",
              " '__iter__',\n",
              " '__le__',\n",
              " '__len__',\n",
              " '__lt__',\n",
              " '__mul__',\n",
              " '__ne__',\n",
              " '__new__',\n",
              " '__reduce__',\n",
              " '__reduce_ex__',\n",
              " '__repr__',\n",
              " '__rmul__',\n",
              " '__setattr__',\n",
              " '__sizeof__',\n",
              " '__str__',\n",
              " '__subclasshook__',\n",
              " 'count',\n",
              " 'index']"
            ]
          },
          "metadata": {},
          "execution_count": 14
        }
      ]
    },
    {
      "cell_type": "markdown",
      "metadata": {
        "id": "_70JOfg82v9B"
      },
      "source": [
        "#Diccionarios\n",
        "### Características de los diccionarios\n",
        "\n",
        "- Agrupan datos pero de forma no lineal.\n",
        "- se declara con#\n",
        " - {}\n",
        " - dict ()\n",
        "- Formando pares del tipo llave:valor, donde\n",
        " - Llave es de tipo string (Siempre)\n",
        " - Valor puede ser de cualquier tipo de datos, incluyendo los diccionarios\n",
        "- Se seleccionan con llave la forma [\"id_llave\"]\n",
        "- Son mutables\n",
        "- Son equivalentes al tipo de dato JSON del lenguaje JAVAScript (JS)"
      ]
    },
    {
      "cell_type": "code",
      "metadata": {
        "id": "4IrKUYd_4ygG"
      },
      "source": [
        "alumno={\"nombre\":\"José\"}\n",
        "print (alumno)\n",
        "print (alumno [\"nombre\"])\n",
        "alumno = {\"nombre\":\"José\", \"nc\":\"2129229292\", \"edad\":18}\n",
        "print(\"Edad del alumno: \",alumno [\"edad\"])\n",
        "print (alumno [\"nombre\"].upper())\n",
        "\n",
        "print (\"Alumno 2:\")\n",
        "alumno2 = dict() #{}\n",
        "alumno2[\"nombre\"]=\"josé\"\n",
        "print (alumno2)\n",
        "alumno2[\"nc\"]=\"2129229292\"\n",
        "alumno2[\"edad\"]=18\n",
        "print (alumno2)\n",
        "alumno2 [\"edad\"]=alumno2[\"edad+1\"]"
      ],
      "execution_count": null,
      "outputs": []
    },
    {
      "cell_type": "code",
      "metadata": {
        "id": "8kdUrvjD8SfX"
      },
      "source": [
        "cliente = {\"id\":\"CT2121\", \n",
        "           \"nombre\": {\n",
        "               \"nombres\":\"José Eduardo\",\n",
        "               \"paterno\":\"Pedroza\",\n",
        "               \"materno\":\"Rosales\"},\n",
        "           \"telefonos\": {\n",
        "               \"casa\":\"554456565\",\n",
        "               \"celular\":\"04455234234\"\n",
        "           },\n",
        "           \"productos\":{\n",
        "               \"ahorro\":{\"número_cuenta\":\"7878\",\"ahorro\":2500.5},\n",
        "               \"tarjetas\":[\n",
        "                           {\"tipo\":\"débito\", \"saldo\":10000.5},\n",
        "                           {\"tipo\":\"crédito preferente\",\"límite\":250000.5},\n",
        "                           {\"tipo\":\"lite\", \"límite\":15000.5}\n",
        "               ]\n",
        "           },\n",
        "           \"dirección\":{\n",
        "               \"calle\":\"Av. Central\",\n",
        "               \"numero\":1245,\n",
        "               \"colonia\":\"Impulsora\",\n",
        "               \"delegación\":\"Neza\",\n",
        "               \"estado\": {\n",
        "                   \"clave\":15,\n",
        "                   \"nombre_corto\":\"EdoMex\",\n",
        "                   \"nombre\":\"Estado de México\"\n",
        "               }\n",
        "           }\n",
        "           }\n",
        "\n",
        "print (cliente [\"telefonos\"][\"casa\"]) \n",
        "print(cliente)\n",
        "print(cliente[\"productos\"][\"ahorro\"][\"ahorro\"])\n",
        "print(cliente[\"productos\"] [\"tarjetas\"] [2] [\"límite\"])\n",
        "print(cliente[\"dirección\"][\"estado\"][\"nombre\"].upper())\n",
        "print (cliente[\"productos\"][\"ahorro\"][\"ahorro\"] -= 1500)  #11/11/2021\n",
        "print (cliente[\"productos\"])\n",
        "\n",
        "#Diccionario película - libre\n",
        "película = {\"Nombre\":\"Avengers: End Game\",\n",
        "            \"Reparto_Principal\":{\n",
        "                \"Ironman\":\"RDJ\",\n",
        "                \"Capitán América\":\"Chris Evans\",\n",
        "                \"Thor\":\"Chris Hemsworth\",\n",
        "                \"Hawkewye\":\"Jeremmy Renner,\n",
        "                \"Black Widow\":\"Scarlett Johanson\",\n",
        "                \"Hulk\":\"Mark Ruffalo\",\n",
        "            }, \n",
        "            \"Productores\":{\n",
        "                \"Director\":\"Anthony y Joe Russo\",\n",
        "                \"Producción\":\"Kevin Feige\"\n",
        "                \"Guión\":[\"Christopher Markus\", \"Stephen Mc Feely\"]\n",
        "            }, \n",
        "            \"Ambientación\":{\n",
        "                \"Música\":\"Alan Silverstri\"\n",
        "                \"Montaje\":\"Jeffrey Ford\"\n",
        "            }, \n",
        "            \"Compañías\":{\n",
        "                \"Productora\":\"Marvel Studios\",\n",
        "                \"Distribición\":\"Walt Disney Studios Motion Pictures\"},}\n"
      ],
      "execution_count": null,
      "outputs": []
    },
    {
      "cell_type": "markdown",
      "metadata": {
        "id": "Sdx2HmdSMsZf"
      },
      "source": [
        "#Estruturas de control de programación\n",
        "\n",
        "Se puede crear cualquier tipo de algoritmo empleando solamente 3 estreucturas de control: \n",
        "1. Secuencia: \n",
        "  - La representación de la memoria de programa (Arquitectura Vonn Newman)\n",
        "  - \n",
        "2. Selección:\n",
        "  - Es la estructura de selección de control que decide si un bloque de programa se ejecuta o no se ejecuta. También permite seleccionar si se ejecuta un bloque entre un conjunto de opciones.\n",
        "   - En resumen tenemos: \n",
        "     - Seleccion simple, \n",
        "     - Selección bifurcación y \n",
        "     - Selección múltiple.\n",
        "  - So\n",
        "3. Repetición: \n",
        "  - Este tipo de estructura nos permite automátizar, la ejecución repetitiva de código mientras ciertas condiciones se cumplan, tenemos tres variantes de es esta estructura en todos los lenguajes de programación#\n",
        "    - Desde...hasta (Estructura for)\n",
        "    - Haz mientras (Estructura While)\n",
        "    - Haz y luego valida mientras (Estructura do-While)"
      ]
    },
    {
      "cell_type": "markdown",
      "metadata": {
        "id": "c427O82bSGzo"
      },
      "source": [
        "##Seleccion simple\n",
        "- Documentar o poner notas\n",
        "### La estructura If\n",
        "\n",
        "```\n",
        " if < CONDICION > #\n",
        "  < cuerpo del IF >\n",
        "```  \n",
        "**Nota** Para establecer el cuerpo de una estructura de control en Python se usan los tabuladores a la izq.\n",
        "\n",
        "En otros lenguajes de programación como Java, C y C++ se usan las llaves {}\n",
        "\n",
        "```\n",
        "int edad=0;\n",
        "printf(\"Dame tu edad\");\n",
        "scanf(\"%i\", &edad);\n",
        "if(edad >=18){\n",
        "  printf(\"Eres mayor de edad\");\n",
        "}\n",
        "printf (\"Fin del programa\");\n",
        "```"
      ]
    },
    {
      "cell_type": "code",
      "metadata": {
        "colab": {
          "base_uri": "https://localhost:8080/"
        },
        "id": "gL55G0TpSNAf",
        "outputId": "0e63cdc1-76db-4bac-ddf6-bb641181ffe3"
      },
      "source": [
        "edad = int (input(\"Dame tu edad: \"))\n",
        "print (f\"Tecleaste {edad} años\")\n",
        "if edad >= 18 :\n",
        "  print(\"ERES MAYOR DE EDAD\")\n",
        "print (\"Fin del programa\")"
      ],
      "execution_count": null,
      "outputs": [
        {
          "output_type": "stream",
          "name": "stdout",
          "text": [
            "Dame tu edad: 1\n",
            "Tecleaste 1 años\n",
            "Fin del programa\n"
          ]
        }
      ]
    },
    {
      "cell_type": "code",
      "metadata": {
        "colab": {
          "base_uri": "https://localhost:8080/"
        },
        "id": "pH0m-mDdXVH8",
        "outputId": "1dd531b6-a913-4a94-f439-5eb342b4f437"
      },
      "source": [
        "CAL = float(input(\"Dame tu calificación\"))\n",
        "if CAL > 8:\n",
        "  print(\"Aprobado\")\n",
        "print(\"Fin del programa\")"
      ],
      "execution_count": null,
      "outputs": [
        {
          "output_type": "stream",
          "name": "stdout",
          "text": [
            "Dame tu calificación8.40\n",
            "aprobado\n",
            "Fin del programa\n"
          ]
        }
      ]
    },
    {
      "cell_type": "code",
      "metadata": {
        "colab": {
          "base_uri": "https://localhost:8080/"
        },
        "id": "_05htjzaYXxX",
        "outputId": "db2cc19e-d853-4716-de92-ba6b6e588bcd"
      },
      "source": [
        "SUE = float(input(\"Escribe el sueldo: \"))\n",
        "AUM = 0 \n",
        "MSUE = 0\n",
        "\n",
        "if SUE < 1000 :\n",
        "    AUM = SUE* 0.15\n",
        "    MSUE = SUE + AUM\n",
        "    print(MSUE)"
      ],
      "execution_count": null,
      "outputs": [
        {
          "output_type": "stream",
          "name": "stdout",
          "text": [
            "Escribe el sueldo: 875.50\n",
            "1006.825\n"
          ]
        }
      ]
    },
    {
      "cell_type": "markdown",
      "metadata": {
        "id": "cogSaVcKGntS"
      },
      "source": [
        "#Estructura de seleccion con bifurcación (if-else) - 18/11/2021\n",
        "Estas estructura, selecciona una de dos opciones de ejecución, se ejecuta un bloque si la condición se cumple o se ejecuta otro bloque si la condición no se cumple (else).\n",
        "\n",
        "```\n",
        "if <condición> : \n",
        "    <bloque de ejcución>\n",
        "else :\n",
        "    <bloque de ejecución alterno>\n",
        "```"
      ]
    },
    {
      "cell_type": "code",
      "metadata": {
        "colab": {
          "base_uri": "https://localhost:8080/"
        },
        "id": "_i1nFzBaHMzm",
        "outputId": "fd069ce6-cbfc-4052-c83a-e8e86f8488a0"
      },
      "source": [
        "edad= int (input(\"Dame tu edad: \"))\n",
        "print(f\"Tecleaste {edad} años\")\n",
        "if edad>=19:\n",
        "  print(\"Eres mayor de edad, toma tu cerveza\")\n",
        "else:\n",
        "  print(\"Eres menor de edad, toma un boing de mango\")\n",
        "print(\"Fin del programa\")"
      ],
      "execution_count": null,
      "outputs": [
        {
          "output_type": "stream",
          "name": "stdout",
          "text": [
            "Dame tu edad: 18\n",
            "Tecleaste 18 años\n",
            "Eres menor de edad, toma un boing de mango\n",
            "Fin del programa\n"
          ]
        }
      ]
    },
    {
      "cell_type": "code",
      "metadata": {
        "colab": {
          "base_uri": "https://localhost:8080/"
        },
        "id": "VBL16E1GJMHA",
        "outputId": "33b081b3-530e-45da-f14d-2c6f53c2552f"
      },
      "source": [
        "#Edad, dinero cuanto trae, 36 pesos la cerveza\n",
        "\n",
        "edad= int (input(\"Dame tu edad: \"))\n",
        "print(f\"Tecleaste {edad} años\")\n",
        "if edad>=19:\n",
        "  print(\"Eres mayor de edad, ¿te alcanza para tu cerveza?\")\n",
        "  dinero=float (input(\"Dime cuánto dinero traes: \"))\n",
        "  print (f\"Tecleaste {dinero} pesos\")\n",
        "  if dinero>=36:\n",
        "    print(\"Te alcanza para tu cerveza\")\n",
        "  else:\n",
        "    print(\"No te alcanza para tu cerveza, toma un boing\")\n",
        "else:\n",
        "  print(\"Eres menor de edad y no te alcanaza, toma un boing de mango\")\n",
        "print(\"Fin del programa\")"
      ],
      "execution_count": null,
      "outputs": [
        {
          "output_type": "stream",
          "name": "stdout",
          "text": [
            "Dame tu edad: 18\n",
            "Tecleaste 18 años\n",
            "Eres menor de edad y no te alcanaza, toma un boing de mango\n",
            "Fin del programa\n"
          ]
        }
      ]
    },
    {
      "cell_type": "markdown",
      "metadata": {
        "id": "nLKl18jyMuIf"
      },
      "source": [
        "El código anterior se puede simplificar usando una palabra reservada para algunos lenguajes de programación:\n",
        "\n",
        "###elif\n"
      ]
    },
    {
      "cell_type": "code",
      "metadata": {
        "colab": {
          "base_uri": "https://localhost:8080/"
        },
        "id": "vCIog6q_NEBZ",
        "outputId": "bf8e9325-0b71-4dc6-9f17-26b1bc41f310"
      },
      "source": [
        "#Edad, dinero cuanto trae, 36 pesos la cerveza\n",
        "\n",
        "edad= int (input(\"Dame tu edad: \"))\n",
        "print(f\"Tecleaste {edad} años\")\n",
        "dinero =float (input(\"Dime cuánto dinero traes: \"))\n",
        "if edad>=19:\n",
        "  print(\"Eres mayor de edad, ¿te alcanza para tu cerveza?\")\n",
        "  print (f\"Tecleaste {dinero} pesos\")\n",
        "  if dinero >=36:\n",
        "    print(\"Te alcanza para tu cerveza\")\n",
        "  else:\n",
        "    print(\"No te alcanza para tu cerveza, toma un boing\")\n",
        "elif dinero >=36:\n",
        "  print(\"Eres menor de edad y no te alcanaza, toma un boing de mango\")\n",
        "print(\"Fin del programa\")"
      ],
      "execution_count": null,
      "outputs": [
        {
          "output_type": "stream",
          "name": "stdout",
          "text": [
            "Dame tu edad: 18\n",
            "Tecleaste 18 años\n",
            "Dime cuánto dinero traes: 450\n",
            "Eres menor de edad y no te alcanaza, toma un boing de mango\n",
            "Fin del programa\n"
          ]
        }
      ]
    },
    {
      "cell_type": "code",
      "metadata": {
        "id": "rKiKvrLZOvJp",
        "colab": {
          "base_uri": "https://localhost:8080/"
        },
        "outputId": "3b41ad7c-d24d-4982-bdbe-1d81e7cc6032"
      },
      "source": [
        "Cal= float(input(\"Escribe tu calificación: \"))\n",
        "if Cal >=8:\n",
        "  print(\"Aprobado\")\n",
        "else: \n",
        "  print (\"Reprobado\")"
      ],
      "execution_count": null,
      "outputs": [
        {
          "output_type": "stream",
          "name": "stdout",
          "text": [
            "Escribe tu calificación: 9\n",
            "Aprobado\n"
          ]
        }
      ]
    },
    {
      "cell_type": "code",
      "metadata": {
        "colab": {
          "base_uri": "https://localhost:8080/"
        },
        "id": "eggaHGxNPFbh",
        "outputId": "f541c215-0b2c-41b1-ced1-52b102f7922a"
      },
      "source": [
        "#ejemplo 2.4\n",
        "SUE = float(input(\"Escribe el sueldo: \"))\n",
        "AUM = 0 \n",
        "NSUE = 0\n",
        "\n",
        "if SUE < 1000 :\n",
        "    AUM = SUE* 0.15\n",
        "    NSUE = SUE + AUM\n",
        "    print(NSUE)\n",
        "else:\n",
        "    AUM= SUE*0.12\n",
        "    NSUE = SUE + AUM\n",
        "    print(NSUE)"
      ],
      "execution_count": null,
      "outputs": [
        {
          "output_type": "stream",
          "name": "stdout",
          "text": [
            "Escribe el sueldo: 18000\n",
            "20160.0\n"
          ]
        }
      ]
    },
    {
      "cell_type": "markdown",
      "metadata": {
        "id": "OR01CQJeSnuF"
      },
      "source": [
        "###EJERCICIO IF ELSE\n",
        "Hacer un programa que solicite el día de la semana en un valor n´merico entero \n",
        "del 1 al 7, avisarle al usuario si proporcionó un valor fuera del rango\n",
        "Posteriormente imprimirá el día de la semana correspondiente al número capturado\n",
        "\n",
        "1 - lunes\n",
        "2 - martes\n",
        "...\n",
        "7 - domingo"
      ]
    },
    {
      "cell_type": "code",
      "metadata": {
        "colab": {
          "base_uri": "https://localhost:8080/"
        },
        "id": "7qG3TK-_SEIm",
        "outputId": "4502321e-389f-4e75-8f4f-c0c280935efb"
      },
      "source": [
        "dia=int(input(\"Dame el día de la semana del 1-7: \"))\n",
        "if dia is 1:\n",
        "    print(\"Lunes\")\n",
        "elif dia is 2:\n",
        "    print(\"Martes\")\n",
        "elif dia is 3:\n",
        "    print(\"Miercoles\")\n",
        "elif dia is 4:\n",
        "    print(\"Jueves\")\n",
        "elif dia is 5:\n",
        "    print(\"Viernes\")\n",
        "elif dia is 6:\n",
        "    print(\"Sábado\")\n",
        "elif dia is 7:\n",
        "    print(\"Domingo\")\n",
        "else:\n",
        "    print(\"Debe ser un numero del 1 al 7, ingresa nuevamente\")"
      ],
      "execution_count": null,
      "outputs": [
        {
          "output_type": "stream",
          "name": "stdout",
          "text": [
            "Dame el día de la semana del 1-7: 6\n",
            "Sábado\n"
          ]
        }
      ]
    },
    {
      "cell_type": "code",
      "metadata": {
        "colab": {
          "base_uri": "https://localhost:8080/"
        },
        "id": "mOEe5ZScVWx2",
        "outputId": "fe9acf54-f06d-44c7-d08b-c1328a83b449"
      },
      "source": [
        "dia = int( input(\"Ingresa un numero entre 1 y 7:\"))\n",
        "print(f\"Capturaste el numero { dia }\")\n",
        "\n",
        "if dia >=1 and dia <= 7:\n",
        "  if dia == 1:\n",
        "    print(\"Lunes\")\n",
        "  else:\n",
        "    if dia == 2:\n",
        "      print(\"Martes\")\n",
        "    else:\n",
        "      if dia == 3:\n",
        "        print(\"Miércoles\")\n",
        "      else:\n",
        "        if dia == 4:\n",
        "          print(\"Jueves\")\n",
        "        else:\n",
        "          if dia == 5:\n",
        "            print(\"Viernes\")\n",
        "          else:     \n",
        "            if dia == 6:\n",
        "              print(\"Sábado\")\n",
        "            else:\n",
        "              print(\"Domingo\")\n",
        "else:\n",
        "    print(\"Ese numero no esta dentro del rango solicitado\")"
      ],
      "execution_count": null,
      "outputs": [
        {
          "output_type": "stream",
          "name": "stdout",
          "text": [
            "Ingresa un numero entre 1 y 7:5\n",
            "Capturaste el numero 5\n",
            "Viernes\n"
          ]
        }
      ]
    },
    {
      "cell_type": "markdown",
      "metadata": {
        "id": "bB_q0hlMa-kV"
      },
      "source": [
        "#Selección múltiple (switch)\n",
        "En python no existe la escritura de selección \"Switch\" en su lugar se emplea la palara reservada:\n",
        "## elif <condición> \n",
        "\n",
        "```\n",
        "float SUE=0.0;\n",
        "int CATE=0;\n",
        "\n",
        "printf(\"Intropduce la categoría: );\n",
        "scanf(\"%f\",SUE);\n",
        "swirch (CATE)\n",
        "  case 1:\n",
        "    SUE=SUE*1.15;\n",
        "    break; \n",
        "  case2:\n",
        "   SUE=SUE1.*10;\n",
        "   break;\n",
        "  case 3:\n",
        "    SUE=SUE*1.08;\n",
        "    break;\n",
        "  case 4:\n",
        "    SUE=SUE*1.07;\n",
        "    break; }\n",
        "prinf(\"Categoría= %i, Sueldo= %f\", CATE, SUE);\n",
        "```\n"
      ]
    },
    {
      "cell_type": "code",
      "metadata": {
        "id": "8yS0Qlm-dGtl"
      },
      "source": [
        "U#ejemplo2.7\n",
        "\n",
        "NUM=int (input(\"dame un numero entre 1 y 3:\"))\n",
        "V=float(input(\"Dame un valor float: \"))\n",
        "VAL=0\n",
        "if NUM == 1:\n",
        "  VAL=100*V\n",
        "elif NUM==2:\n",
        "  VAL=100**V\n",
        "elif NUM==3:\n",
        "  VAL=100***V\n",
        "else:\n",
        "  VAL=0\n",
        "\n",
        "print (VAL)"
      ],
      "execution_count": null,
      "outputs": []
    },
    {
      "cell_type": "markdown",
      "metadata": {
        "id": "wbf9myPe2B8B"
      },
      "source": [
        "#23/11/2021"
      ]
    },
    {
      "cell_type": "code",
      "metadata": {
        "id": "VQ9Rh4-P1_PV"
      },
      "source": [
        "#Ejemplo 2.8\n",
        "\n",
        "CATE=int(input(\"Introduce la categoría: \"))\n",
        "SUE=float(input(\"Introduce el sueldo: \"))\n",
        "\n",
        "if CATE==1:\n",
        "   SUE=SUE*1.15;\n",
        "elif CATE==2:\n",
        "  SUE=SUE*1.10;\n",
        "elif CATE=3:\n",
        "  SUE=SUE*1.08;\n",
        "elif CATE=4:\n",
        "  SUE=SUE*1.07;\n",
        "\n",
        "print(f\"Categoría= {CATE}, Sueldo= {SUE}\")"
      ],
      "execution_count": null,
      "outputs": []
    },
    {
      "cell_type": "code",
      "metadata": {
        "id": "ngckF_vQ5Ip4"
      },
      "source": [
        "#Ejemplo 2.12\n",
        "\n",
        "a=int(input(\"Ingrese un número entero: \"))\n",
        "b=int(input(\"Ingrese otro número entero\"))\n",
        "c=int(input(\"Ingrese un último número entrero\"))\n",
        "\n",
        "if a>=b and a>=c and b<=c:\n",
        "  print(\"El número mayor es: \",a)\n",
        "  print(\"El número medio es: \",b)\n",
        "  print(\"El número menor es: \",c)\n",
        "elif a>=b and a>=c and c<=b:\n",
        "  print(\"El número mayor es: \",a)\n",
        "  print(\"El número medio es: \",c)\n",
        "  print(\"El número menor es: \",b)\n",
        "elif b>=a and b>=c and a<=c:\n",
        "  print(\"El número mayor es: \",b)\n",
        "  print(\"El número medio es: \",a)\n",
        "  print(\"El número menor es: \",c)\n",
        "elif b>=a and b>=c and c<=a:\n",
        "  print(\"El número mayor es: \",b)\n",
        "  print(\"El número medio es: \",c)\n",
        "  print(\"El número menor es: \",a)\n",
        "elif c>=a and c>=b and a<=b:\n",
        "  print(\"El número mayor es: \",c)\n",
        "  print(\"El número medio es: \",a)\n",
        "  print(\"El número menor es: \",b)\n",
        "else:\n",
        "  print(\"El número mayor es: \",c)\n",
        "  print(\"El número menor es: \",b)"
      ],
      "execution_count": null,
      "outputs": []
    },
    {
      "cell_type": "code",
      "metadata": {
        "id": "V0vB5uwMD36-"
      },
      "source": [
        "#Problema 2.14\n",
        "TIPOENF=int(input(\"Introduce el tipo de enfermedad: \"))\n",
        "EDAD=int(input(\"Introduce la edad: \"))\n",
        "DIAS=int(input(\"Introduce el número de días: \"))\n",
        "COSTO= 0.0\n",
        "\n",
        "if TIPOENF==1:\n",
        "  COSTRO=DIAS*25.0\n",
        "elif TIPOENF ==2:\n",
        "  COSTO=DIAS*16.0\n",
        "elif TIPOENF==3:\n",
        "  COSTO=DIAS*20.0\n",
        "if EDAD>=14 and EDAD >=22: \n",
        "  COSTO=COSTO*1.10\n",
        "\n",
        "print(\"Costo total = $\",COSTO)\n",
        "print(f\"Se pagó ${COSTO} pesos por {DIAS} días de estancia\")\n",
        "print(\"No alcancé a copiar esto\")"
      ],
      "execution_count": null,
      "outputs": []
    }
  ]
}