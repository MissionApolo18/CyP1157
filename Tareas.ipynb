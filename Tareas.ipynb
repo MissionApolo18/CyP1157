{
  "nbformat": 4,
  "nbformat_minor": 0,
  "metadata": {
    "colab": {
      "name": "Tareas.ipynb",
      "provenance": [],
      "authorship_tag": "ABX9TyNXaSeyy2qU5pttNyssIafe",
      "include_colab_link": true
    },
    "kernelspec": {
      "name": "python3",
      "display_name": "Python 3"
    },
    "language_info": {
      "name": "python"
    }
  },
  "cells": [
    {
      "cell_type": "markdown",
      "metadata": {
        "id": "view-in-github",
        "colab_type": "text"
      },
      "source": [
        "<a href=\"https://colab.research.google.com/github/MissionApolo18/CyP1157/blob/main/Tareas.ipynb\" target=\"_parent\"><img src=\"https://colab.research.google.com/assets/colab-badge.svg\" alt=\"Open In Colab\"/></a>"
      ]
    },
    {
      "cell_type": "markdown",
      "metadata": {
        "id": "33uWQYfKOdaZ"
      },
      "source": [
        "#Tarea 4"
      ]
    },
    {
      "cell_type": "code",
      "metadata": {
        "id": "XCTKuBO_OZ-L"
      },
      "source": [
        "#En horizontal:\n",
        "print(\"\\n\tA        N       N    GGGGGGGGG    EEEEEEEEE    L       \t A    \\n      A   A      NN\t N    G            E            L              A   A  \\n    A       A    N N     N    G            E            L            A       A\\n    AAAAAAAAA    N  N    N    G    GGGG    EEEEE        L            AAAAAAAAA \\n    A       A    N   N   N    G       G    E            L            A       A \\n    A       A    N    N  N    G       G    E            L            A       A \\n    A       A    N     N N    GGGGGGGGG    EEEEEEEEE    LLLLLLLLL    A       A \")\n",
        "#En vertical:\n",
        "print (\"\\n\tA\\n      A   A\\n    A       A\\n    AAAAAAAAA\\n    A       A\\n    A       A\\n    A       A\")\n",
        "print (\"\\n    N\t    N\\n    N N\t    N\\n    N  N    N\\n    N   N   N\\n    N    N  N\\n    N\t  N N\\n    N\t    N\")\n",
        "print (\"\\n    GGGGGGGGG\\n    G\\n    G\\n    G    GGGG\\n    G       G\\n    G       G\\n    GGGGGGGGG\")\n",
        "print (\"\\n    EEEEEEEEE\\n    E\\n    E\\n    EEEEE\\n    E\\n    E\\n    EEEEEEEE\")\n",
        "print (\"\\n    L\\n    L\\n    L\\n    L\\n    L\\n    L\\n    LLLLLLLLL\")\n",
        "print (\"\\n\tA\\n      A   A\\n    A       A\\n    AAAAAAAAA\\n    A       A\\n    A       A\\n    A       A\")"
      ],
      "execution_count": null,
      "outputs": []
    },
    {
      "cell_type": "markdown",
      "metadata": {
        "id": "PRgj5Bw6xrDr"
      },
      "source": [
        "#Tarea 5\n",
        "\n",
        "##1. Dos números enteros mayor y menor que\n",
        "\n",
        "##2. Tres números enteros y solo sale el mayor \n",
        "\n",
        "##3. Tres números enteros y solo sale el menor\n",
        "\n",
        "##4. Cuatro numeros enteros y solo salen el mayor y el menor."
      ]
    },
    {
      "cell_type": "code",
      "metadata": {
        "colab": {
          "base_uri": "https://localhost:8080/"
        },
        "id": "91V06pX7xpzZ",
        "outputId": "a60e3f97-3f24-41ba-d101-a1b3f3ba8786"
      },
      "source": [
        "#Caso 1\n",
        "\n",
        "n=int(input(\"Escribe cualquier número entero\"))\n",
        "m=int(input(\"Escribe otro número entero\"))\n",
        "if n>=m:\n",
        "  print(f\"El número mayor es: \",n)\n",
        "  print(f\"El número menor es: \",m) \n",
        "else:\n",
        "  print(f\"El número mayor es: \",m)\n",
        "  print(f\"El numero menor es: \",n)"
      ],
      "execution_count": 8,
      "outputs": [
        {
          "output_type": "stream",
          "name": "stdout",
          "text": [
            "Escribe cualquier número entero17\n",
            "Escribe otro número entero28\n",
            "El número ayor es:  28\n",
            "El numero menor es:  17\n"
          ]
        }
      ]
    },
    {
      "cell_type": "code",
      "metadata": {
        "colab": {
          "base_uri": "https://localhost:8080/"
        },
        "id": "JESX6za2Z9bQ",
        "outputId": "4a36b5f9-350b-49d2-e62c-01f1a105cca0"
      },
      "source": [
        "#Caso 2\n",
        "\n",
        "n=int(input(\"Escribe cualquier número entero: \"))\n",
        "m=int(input(\"Escribe otro número entero: \"))\n",
        "b=int(input(\"Escribe otro número entero: \"))\n",
        "\n",
        "if n>=m and n>=b:\n",
        "  print(f\"El número mayor es: \",n)\n",
        "elif m>=n and m>=b:\n",
        "  print(f\"El número mayor es: \",m)\n",
        "else:\n",
        "  print(f\"El número mayor es: \",b)"
      ],
      "execution_count": 12,
      "outputs": [
        {
          "output_type": "stream",
          "name": "stdout",
          "text": [
            "Escribe cualquier número entero: 12\n",
            "Escribe otro número entero: 82\n",
            "Escribe otro número entero: 19\n",
            "El número mayor es:  82\n"
          ]
        }
      ]
    },
    {
      "cell_type": "code",
      "metadata": {
        "colab": {
          "base_uri": "https://localhost:8080/"
        },
        "id": "xDJa3mkDc1a_",
        "outputId": "bdb0d6c9-91f4-4485-db17-6f842651e35c"
      },
      "source": [
        "#Caso 3\n",
        "\n",
        "n=int(input(\"Escribe cualquier número entero: \"))\n",
        "m=int(input(\"Escribe otro número entero: \"))\n",
        "b=int(input(\"Escribe otro número entero: \"))\n",
        "\n",
        "if n<=m and n<=b:\n",
        "  print(f\"El número menor es: \",n)\n",
        "elif m<=n and m<=b:\n",
        "  print(f\"El número menor es: \",m)\n",
        "else:\n",
        "  print(f\"El número menor es: \",b)"
      ],
      "execution_count": 22,
      "outputs": [
        {
          "output_type": "stream",
          "name": "stdout",
          "text": [
            "Escribe cualquier número entero: 56\n",
            "Escribe otro número entero: 78\n",
            "Escribe otro número entero: 123\n",
            "El número menor es:  56\n"
          ]
        }
      ]
    },
    {
      "cell_type": "code",
      "metadata": {
        "colab": {
          "base_uri": "https://localhost:8080/"
        },
        "id": "qpxrX_OSdT2q",
        "outputId": "668a22f0-3e7c-4c43-8331-236db5aa3f37"
      },
      "source": [
        "#Caso 4\n",
        "\n",
        "n=int(input(\"Escribe cualquier número entero: \"))\n",
        "m=int(input(\"Escribe otro número entero: \"))\n",
        "b=int(input(\"Escribe otro número entero: \"))\n",
        "a=int(input(\"Escribe un último número entero: \"))\n",
        "\n",
        "if n>=m and n>=b and n>=a and m<=b and m<=a:\n",
        "  print(f\"El número mayor es: \",n)\n",
        "  print(f\"El número menor es: \",m)\n",
        "elif n>=m and n>=b and n>=a and b<=m and b<=a:\n",
        "  print(f\"El número mayor es: \",n)\n",
        "  print(f\"El número menor es: \",b)\n",
        "elif n>=m and n>=b and n>=a and a<=b and a<=m:\n",
        "  print(f\"El número mayor es: \",n)\n",
        "  print(f\"El número menor es: \",a)\n",
        "elif m>=n and m>=b and m>=a and n<=b and n<=a:\n",
        "  print(f\"El número mayor es: \",m)\n",
        "  print(f\"El número menor es: \",n)\n",
        "elif m>=n and m>=b and m>=a and b<=n and b<=a:\n",
        "  print(f\"El número mayor es: \",m)\n",
        "  print(f\"El número menor es: \",b)\n",
        "elif m>=n and m>=b and m>=a and a<=b and a<=n:\n",
        "  print(f\"El número mayor es: \",m)\n",
        "  print(f\"El número menor es: \",a)\n",
        "elif b>=n and b>=m and b>=a and n<=m and n<=a:\n",
        "  print(f\"El número mayor es: \",b)\n",
        "  print(f\"El número menor es: \",n)\n",
        "elif b>=n and b>=m and b>=a and m<=n and m<=a:\n",
        "  print(f\"El número mayor es: \",b)\n",
        "  print(f\"El número menor es: \",m)\n",
        "elif b>=n and b>=m and b>=a and a<=m and a<=n:\n",
        "  print(f\"El número mayor es: \",b)\n",
        "  print(f\"El número menor es: \",a)\n",
        "elif a>=n and a>=m and a>=b and n<=m and n<=b:\n",
        "  print(f\"El número mayor es: \",a)\n",
        "  print(f\"El número menor es: \",n)\n",
        "elif a>=n and a>=m and a>=b and m<=n and m<=b:\n",
        "  print(f\"El número mayor es: \",a)\n",
        "  print(f\"El número menor es: \",m)\n",
        "#elif a>=n and a>=m and a>=b and b<=m and b<=n:\n",
        "\n",
        "else:\n",
        "  print(f\"El número mayor es: \",a)\n",
        "  print(f\"El número menor es: \",b)"
      ],
      "execution_count": 21,
      "outputs": [
        {
          "output_type": "stream",
          "name": "stdout",
          "text": [
            "Escribe cualquier número entero: 34\n",
            "Escribe otro número entero: 45\n",
            "Escribe otro número entero: 56\n",
            "Escribe un último número entero: 31\n",
            "El número mayor es:  56\n",
            "El número menor es:  31\n"
          ]
        }
      ]
    }
  ]
}