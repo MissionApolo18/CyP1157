{
  "nbformat": 4,
  "nbformat_minor": 0,
  "metadata": {
    "colab": {
      "name": "Fundamentos3_CyP.ipynb",
      "provenance": [],
      "authorship_tag": "ABX9TyP9/lW0wekmF4BYjLkbQAvn",
      "include_colab_link": true
    },
    "kernelspec": {
      "name": "python3",
      "display_name": "Python 3"
    },
    "language_info": {
      "name": "python"
    }
  },
  "cells": [
    {
      "cell_type": "markdown",
      "metadata": {
        "id": "view-in-github",
        "colab_type": "text"
      },
      "source": [
        "<a href=\"https://colab.research.google.com/github/MissionApolo18/CyP1157/blob/main/Fundamentos3_CyP.ipynb\" target=\"_parent\"><img src=\"https://colab.research.google.com/assets/colab-badge.svg\" alt=\"Open In Colab\"/></a>"
      ]
    },
    {
      "cell_type": "markdown",
      "metadata": {
        "id": "QRuZenaZFh0e"
      },
      "source": [
        "#Repetición: 23/11/2021\n",
        "\n",
        "Este tipo de estructura nos permite automátizar, la ejecución repetitiva de código mientras ciertas condiciones se cumplan, tenemos tres variantes de es esta estructura en todos los lenguajes de programación#\n",
        "  - Desde...hasta (Estructura for)\n",
        "  - Haz mientras (Estructura While)\n",
        "  - Haz y luego valida mientras (Estructura do-While)\n",
        "\n",
        "##FOR con Pythonm\n",
        "\n",
        "```\n",
        "for j in range (10):\n",
        "  print(f\"Hola {j}\")\n",
        "```\n",
        "\n",
        "##FOR con lenguaje C y/o Java\n",
        "```\n",
        "for(int j=0; j<10; j=j+1){\n",
        "  printf(\"Hola %i \\n\", j);\n",
        "}\n",
        "```\n",
        "\n",
        "En todos los lenguajes de programación existe un tipo especial de for, conocido como **for-each**.\n",
        "\n",
        "##For-each en Python\n",
        "\n",
        "```\n",
        "for color in colores:\n",
        "  print(f\"Este es el color {color}\")\n",
        "```"
      ]
    },
    {
      "cell_type": "code",
      "metadata": {
        "id": "PjoQpIo1FVHX"
      },
      "source": [
        "#función range ()\n",
        "#range(<INICIO>, <STOP>, <INCREMENTO>)\n",
        "\n",
        "x=range (0,10,2)\n",
        "print(x)\n",
        "\n",
        "for j in range (10):  #range(0,10)--> 0,1,2,3,4,5,6,7,8,9\n",
        "  print(f\"Hola {j}\")\n",
        "\n",
        "frutas=[\"uva\", \"aguacate\", \"pera\",\"manzana\",\"sandía\"]\n",
        "\n",
        "print(frutas [0])\n",
        "print(frutas [1])\n",
        "print(frutas [2])\n",
        "print(frutas [3])\n",
        "print(frutas [4])\n",
        "\n",
        "print(\"---Frutas---\")\n",
        "for index in range (5):\n",
        "  print(frutas[index])\n",
        "\n",
        "for i in range(5):\n",
        "    print(\"+++++\")"
      ],
      "execution_count": null,
      "outputs": []
    },
    {
      "cell_type": "markdown",
      "metadata": {
        "id": "I5JEJ8jaL1vJ"
      },
      "source": [
        "#25/11/2021"
      ]
    },
    {
      "cell_type": "code",
      "metadata": {
        "id": "7HRmz6hwLz1D"
      },
      "source": [
        "for x in range(1,20,1):\n",
        "  print(x)\n",
        "print(\"Fin del programa\")\n",
        "\n",
        "for x in range(19,0,-1):\n",
        "  print(x)\n",
        "print(\"Fin del programa\")"
      ],
      "execution_count": null,
      "outputs": []
    },
    {
      "cell_type": "code",
      "metadata": {
        "id": "D8l5evsCNzU6"
      },
      "source": [
        "#Ejemplo 3.3\n",
        "CUECER=0\n",
        "NUM=0\n",
        "N=int(input(\"Introduce un valor númerico mayor que 1: \"))\n",
        "for I in range (1,N+1,1):\n",
        "  N=int(input(\"Un valor númerico0\n",
        "  : \"))\n",
        "  if N==0:\n",
        "    CUECER+=1\n",
        "\n",
        "print(\"CUECER= \",CUECER)"
      ],
      "execution_count": null,
      "outputs": []
    },
    {
      "cell_type": "markdown",
      "metadata": {
        "id": "4c020mXrQwoL"
      },
      "source": [
        "7x1=7"
      ]
    },
    {
      "cell_type": "code",
      "metadata": {
        "id": "aq-h6qMKQvjC"
      },
      "source": [
        "for f in range(1,11):\n",
        "  print(f'7 x {f} = {7 * f}')\n"
      ],
      "execution_count": null,
      "outputs": []
    },
    {
      "cell_type": "markdown",
      "metadata": {
        "id": "gdW6edjQSKBQ"
      },
      "source": [
        "#Otro ejercicio"
      ]
    },
    {
      "cell_type": "code",
      "metadata": {
        "colab": {
          "base_uri": "https://localhost:8080/"
        },
        "id": "nLDpyZ44SIG1",
        "outputId": "9317b93d-3fe0-4ab0-b8cf-0926bbf4d847"
      },
      "source": [
        "#Este no es\n",
        "N=int(input(\"Ingresa un número entre 1 y 5: \"))\n",
        "M=int(input(\"Ingresa un número entre 2 y 10: \"))\n",
        "\n",
        "for n in range(1,6):\n",
        "  print(f'{n} x {m} = {n*m}')"
      ],
      "execution_count": 18,
      "outputs": [
        {
          "output_type": "stream",
          "name": "stdout",
          "text": [
            "Ingresa un número entre 1 y 5: 3\n",
            "Ingresa un número entre 2 y 10: 5\n",
            "5 x 1 = 5\n",
            "5 x 2 = 10\n",
            "5 x 3 = 15\n",
            "5 x 4 = 20\n",
            "5 x 5 = 25\n"
          ]
        }
      ]
    },
    {
      "cell_type": "code",
      "metadata": {
        "id": "Y84CV6YKTv3Z"
      },
      "source": [
        "#Prueba 1\n",
        "A = int(input(\"Introduce un valor entre 1 y 5: \"))\n",
        "B= int(input(f\"Dame un valor entre {A} y 10: \"))\n",
        "\n",
        "for i in range (A,B+1,1):\n",
        "  X=A*i \n",
        "  print(f\"{A} X {i} = {X}\")\n",
        "\n",
        "\n",
        "#Prueba 2\n",
        "N1=int(input(\"Dame un número entre 1 y 5: \"))\n",
        "if N1>0 and N1<=5:\n",
        "  N2=int(input(\"Dame un número entre 2 y 10: \"))\n",
        "  if N2>=N1 and N2<=10:\n",
        "    for i in range(N1,N2+1):\n",
        "      for j in range(1,11):\n",
        "        print(f\"{i} x {j} = \",i*j)\n",
        "      print(\"----------\")\n",
        "else:\n",
        "  print(\"Valor fuera de rango 1-5\")"
      ],
      "execution_count": null,
      "outputs": []
    },
    {
      "cell_type": "markdown",
      "metadata": {
        "id": "K9U6S7ADWqaL"
      },
      "source": [
        "#Generador de listas\n",
        "\n",
        "notacion especial de python que permite crear una lista de tamaños en especificos"
      ]
    },
    {
      "cell_type": "code",
      "metadata": {
        "id": "A2TYYjTGVMQN"
      },
      "source": [
        "#Generaddor de listas\n",
        "numeros=[0,0,0,0,0]\n",
        "print(numeros)\n",
        "numeros=[0 for x in range (5)]\n",
        "print(numeros)\n",
        "#Empleando la variable de control x para el valor inicial\n",
        "numeros=[x for x in range(5)]\n",
        "print(numeros)\n",
        "#para imprimir puro múltiplo de 10:\n",
        "numeros=[(x+1)*10 for x in range(10)]\n",
        "print(numeros)\n",
        "print(\"-.-.-.-.-.-.-.-.-\")\n",
        "numeros=[x for x in range (10,100,10)]\n",
        "print(numeros)\n"
      ],
      "execution_count": null,
      "outputs": []
    },
    {
      "cell_type": "code",
      "metadata": {
        "id": "fxv3zyhJYct2"
      },
      "source": [
        "#Ejercicios\n",
        "edades=[0 for x in range(5)]\n",
        "print(edades)\n",
        "#edades[0]=int(input(\"Dame la edad: \"))\n",
        "\n",
        "#(n=int(input(\"¿Cuántas edades desea calcular?\"))\n",
        "#if n<=1:\n",
        "#  edades\n",
        "\n",
        "suma=0\n",
        "edades=[0 for x in range(5)]\n",
        "for x in range(5):\n",
        "    edades[x]=int(input(\"Dame una edad: \"))\n",
        "    suma=suma+edades[x]\n",
        "print(edades)\n",
        "print(\"promedio: \", suma/5)\n",
        "\n",
        "print(\".-.-.-.-.-.-.-.-\")\n",
        "SUM = 0\n",
        "edades = [0 for x in range(5)]\n",
        "for x in range(5):\n",
        "    edades[x]= int(input(\"Introduce una edad: \"))\n",
        "    SUM = SUM + edades[x]\n",
        "    PROM = SUM/5\n",
        "print(edades)\n",
        "print(\"El promedio de edades es: \", PROM)"
      ],
      "execution_count": null,
      "outputs": []
    },
    {
      "cell_type": "code",
      "metadata": {
        "colab": {
          "base_uri": "https://localhost:8080/"
        },
        "id": "rhBkBIUZcXiW",
        "outputId": "f7cd77d0-025f-4ed5-f656-49056f0d30e9"
      },
      "source": [
        "import random\n",
        "print(random.random())\n",
        "print(random.uniform(5,11))\n",
        "val=round(random.uniform(5,11),2)\n",
        "print(val)\n",
        "\n",
        "valores=[round(random.uniform(5,11),2)for x in range(20)]\n",
        "print(valores)"
      ],
      "execution_count": 33,
      "outputs": [
        {
          "output_type": "stream",
          "name": "stdout",
          "text": [
            "0.3374254421532169\n",
            "10.20096761207533\n"
          ]
        }
      ]
    }
  ]
}